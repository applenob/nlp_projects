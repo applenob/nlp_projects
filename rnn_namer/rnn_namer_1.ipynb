{
 "cells": [
  {
   "cell_type": "markdown",
   "metadata": {
    "collapsed": true
   },
   "source": [
    "# RNN起名器（一）——思路和数据获取"
   ]
  },
  {
   "cell_type": "markdown",
   "metadata": {},
   "source": [
    "```\n",
    "这篇博客介绍了一个RNN起名器的基本思路和数据获取。\n",
    "```"
   ]
  },
  {
   "cell_type": "markdown",
   "metadata": {},
   "source": [
    "## 1. 起因\n",
    "\n",
    "学习完一些RNN的基础知识，看过一些学术论文以后，像通过一个小项目来练练手。一来加强对模型本身的理解；二来可以提高编码能力和对框架的熟悉程度。\n",
    "\n",
    "受到[char-rnn](https://github.com/karpathy/char-rnn)的启发，同时考虑到歌词生成和诗歌生成没有什么新意，于是决定写一个名字生成器。"
   ]
  },
  {
   "cell_type": "markdown",
   "metadata": {},
   "source": [
    "## 2.思路\n",
    "\n",
    "取名字在中国一直是一个稳定的需求，但是国内起名字，一般需要综合生辰八字，甚至还要居住地址，因为这样取出来的名字是独一无二的。让我们先简化需求，第一步，我们要达成的目标就是根据一个姓和指定的名字长度，输出一些名字。\n",
    "\n",
    "这个需求和生成诗词没有本质的区别，最大的不同就是训练数据。\n",
    "\n",
    "起初我的想法是找一些现有的人口普查数据，使用现有的人名信息作为训练数据；但是转念一想，这些现有的人名不一定是好名字。于是，我又上一些姓名网站找到了一些一些不错的姓名推荐。当然，我没有把这些姓名一个个check过，暂且认为这些推荐都是不错的名字吧。\n"
   ]
  },
  {
   "cell_type": "markdown",
   "metadata": {},
   "source": [
    "## 3.数据获取\n",
    "\n",
    "确定了目标数据源以后，就可以开启爬虫了。具体爬的是哪个网站我就不说了，直接给出爬虫的[代码](https://github.com/applenob/pick_a_name/blob/master/i_crawler.py)。爬虫的代码也不再解析了，代码上的注释写的很清楚，也不是重点。"
   ]
  },
  {
   "cell_type": "markdown",
   "metadata": {},
   "source": [
    "## 4.字向量的训练\n",
    "\n",
    "这个项目中用到的字向量，不是随机生成的；而是使用预训练的字向量，具体使用python第三方库：gensim。\n",
    "\n",
    "下面简单总结下训练过程，参考[这篇博客](http://www.jianshu.com/p/05800a28c5e4)："
   ]
  },
  {
   "cell_type": "markdown",
   "metadata": {},
   "source": [
    "### （一）.下载训练语料\n",
    "\n",
    "使用[中文wiki语料库(1.2G)](https://dumps.wikimedia.org/zhwiki/latest/zhwiki-latest-pages-articles.xml.bz2)作为训练语料。\n",
    "\n",
    "### （二）.安装gensim\n",
    "使用pip安装即可：\n",
    "```bash\n",
    "pip install gensim\n",
    "```"
   ]
  },
  {
   "cell_type": "markdown",
   "metadata": {},
   "source": [
    "### （三）.预处理训练语料\n",
    "\n",
    "```bash\n",
    "python 1_process_wiki.py zhwiki-latest-pages-articles.xml.bz2 wiki.cn.text\n",
    "```\n",
    "\n",
    "[1_process_wiki.py]()这个脚本目的是将训练语料的文本从xml文件中抽取出来。\n",
    "\n",
    "生成的wiki.cn.text：\n",
    "\n",
    "![]()\n",
    "\n",
    "可以看到生成的语料都是繁体字，还包括一些英文。\n",
    "\n",
    "### （四）.繁体转简体\n",
    "\n",
    "使用一种叫opencc的工具:[OpenCC（github地址）](https://github.com/BYVoid/OpenCC)，直接下载源码，然后：\n",
    "\n",
    "```bash\n",
    "make\n",
    "sudo make install\n",
    "```\n",
    "\n",
    "编译安装完毕以后：\n",
    "\n",
    "```bash\n",
    "opencc -i wiki.cn.text -o wiki.cn.text.jian -c t2s.json\n",
    "```\n",
    "\n",
    "生成的wiki.cn.text.jian：\n",
    "\n",
    "![]()\n",
    "\n",
    "### （五）.删除其他字符\n",
    "\n",
    "繁体转成简体后，要删除除了汉字字符外的其他字符。\n",
    "\n",
    "汉字字符unicode范围：\\u4e00-\\u9fa5\n",
    "\n",
    "可以通过下面的正则匹配：\n",
    "\n",
    "```python\n",
    "ss = re.findall(ur'[\\n\\s\\r\\u4e00-\\u9fa5]', line)\n",
    "```\n",
    "\n",
    "执行脚本[2_remove_words.py]()：\n",
    "\n",
    "```bash\n",
    "python 2_remove_words.py wiki.cn.text.jian wiki.cn.text.jian.removed\n",
    "```\n",
    "\n",
    "生成的wiki.cn.text.jian.removed：\n",
    "\n",
    "![]()\n",
    "\n",
    "### （六）.分割训练语料\n",
    "\n",
    "既然是训练字向量，那么必须把每个字符分割开。\n",
    "\n",
    "执行脚本[3_seperate_char.py]():\n",
    "\n",
    "```bash\n",
    "python 3_separate_words.py wiki.cn.text.jian.removed wiki.cn.text.jian.removed.sep\n",
    "```\n",
    "生成的wiki.cn.text.jian.removed.sep：\n",
    "\n",
    "![]()\n",
    "\n",
    "\n",
    "### （七）.训练字向量\n",
    "\n",
    "执行脚本[4_train_word2vec_model.py]():\n",
    "\n",
    "```bash\n",
    "python 4_train_word2vec_model.py wiki.cn.text.jian.removed.sep wiki.cn.text.jian.model wiki.cn.text.jian.vector\n",
    "```\n",
    "- wiki.cn.text.jian.model：gensim可以直接加载的文件。\n",
    "\n",
    "- wiki.cn.text.jian.vector：其他程序也可以读取的以文本保存的向量文件。"
   ]
  },
  {
   "cell_type": "markdown",
   "metadata": {},
   "source": []
  },
  {
   "cell_type": "code",
   "execution_count": null,
   "metadata": {
    "collapsed": true
   },
   "outputs": [],
   "source": []
  }
 ],
 "metadata": {
  "anaconda-cloud": {},
  "kernelspec": {
   "display_name": "Python [default]",
   "language": "python",
   "name": "python2"
  },
  "language_info": {
   "codemirror_mode": {
    "name": "ipython",
    "version": 2
   },
   "file_extension": ".py",
   "mimetype": "text/x-python",
   "name": "python",
   "nbconvert_exporter": "python",
   "pygments_lexer": "ipython2",
   "version": "2.7.12"
  }
 },
 "nbformat": 4,
 "nbformat_minor": 0
}
