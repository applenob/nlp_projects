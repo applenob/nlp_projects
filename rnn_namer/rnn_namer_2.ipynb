{
 "cells": [
  {
   "cell_type": "markdown",
   "metadata": {
    "collapsed": true
   },
   "source": [
    "# RNN起名器（二）——RNN基础"
   ]
  },
  {
   "cell_type": "markdown",
   "metadata": {},
   "source": [
    "```\n",
    "这篇博客介绍RNN基础。\n",
    "```"
   ]
  },
  {
   "cell_type": "markdown",
   "metadata": {},
   "source": [
    "具体关于RNN的细节介绍和实现，推荐wildml的[这个系列博客](http://www.wildml.com/2015/09/recurrent-neural-networks-tutorial-part-1-introduction-to-rnns/)，一共四篇，带你由浅入深学习RNN和Theano实现。补充：看到知乎上有人把这个系列翻译出来了，可以[看看](https://zhuanlan.zhihu.com/p/22266022)。\n",
    "\n",
    "另外，Karpathy（char-rnn的作者）的[博客](http://karpathy.github.io/2015/05/21/rnn-effectiveness/)讲了更多关于RNN和语言模型的知识。\n",
    "\n",
    "这里我简单总结下。"
   ]
  },
  {
   "cell_type": "markdown",
   "metadata": {},
   "source": [
    "## 1. RNN\n",
    "\n",
    "这里说的RNN特指循环神经网络（Recurrent Neural Network），先看下面这张图：\n",
    "\n",
    "![](https://raw.githubusercontent.com/applenob/nlp_projects/master/resources/rnn.jpg)\n",
    "\n",
    "简单介绍下符号：\n",
    "\n",
    "- $x_t$是t时刻的输入；\n",
    "- $s_t$是t时刻的隐藏状态，可以理解成网络的“记忆”；\n",
    "- $o_t$是t时刻的输出\n",
    "\n",
    "\n",
    "先看左边没有展开的图，若输入x直接到输出o，那就是一个普通的神经元；RNN就是在原来的基础上，增加了一个中间状态s，然后这个中间状态会受到上一个时间点（序列中前一个）中间状态的影响。\n",
    "\n",
    "按时间展开这个RNN单元，就可以获得右边的图，U，V，W是唯一的。\n",
    "\n",
    "用数学语言描述上面的图：\n",
    "\n",
    "$$s_t = tanh(Ux_t+Ws_{t-1})$$\n",
    "\n",
    "$$o_t = softmax(Vs_t)$$\n",
    "\n",
    "下面给出theano实现：\n",
    "\n",
    "```python\n",
    "# 1.先定义单个时间序列下的计算规则\n",
    "def forward_prop_step(x_t, s_t_prev, U, V, W):\n",
    "    s_t = T.tanh(U[:, x_t] + W.dot(s_t_prev))\n",
    "    o_t = T.nnet.softmax(V.dot(s_t))\n",
    "    return [o_t[0], s_t]\n",
    "# 2.对输入序列x，计算隐藏状态序列s，和输出序列o；thean中的scan相当于for循环。\n",
    "[o, s], updates = theano.scan(\n",
    "    forward_prop_step,\n",
    "    sequences=x,\n",
    "    outputs_info=[None, dict(initial=T.zeros(self.hidden_dim))],\n",
    "    non_sequences=[U, V, W],\n",
    "    truncate_gradient=self.bptt_truncate,\n",
    "    strict=True)\n",
    "```\n",
    "\n",
    "预测和损失函数：\n",
    "\n",
    "```python\n",
    "prediction = T.argmax(o, axis=1)\n",
    "o_error = T.sum(T.nnet.categorical_crossentropy(o, y))\n",
    "```"
   ]
  },
  {
   "cell_type": "markdown",
   "metadata": {},
   "source": [
    "## 2. GRU（门限递归单元）\n",
    "\n",
    "普通的RNN会有**梯度消失**的问题，即对于较长的输入序列，会出现梯度为0的状况。\n",
    "\n",
    "于是产生了GRU（门限递归单元）和LSTM（长短项记忆）。\n",
    "\n",
    "GRU：\n",
    "\n",
    "![](https://raw.githubusercontent.com/applenob/nlp_projects/master/resources/gru.png)\n",
    "\n",
    "解释：\n",
    "\n",
    "- $z = \\sigma (x_tU^z + s_{t-1}W^z)$ ，z是update gate（更新门），决定保留多少之前的记忆和候选记忆；\n",
    "- $r = \\sigma (x_tU^r + s_{t-1}W^r)$ ，r是reset gate（重置门），决定如何结合新的输入和之前的记忆；\n",
    "- $h = tanh(x_tU^h + (s_{t-1}\\circ r)W^h)$ ，h是候选的s，对应图中的$\\tilde h$\n",
    "- $s_t = (1-z)\\circ h + z \\circ s_{t-1} $ 是t时刻的隐藏状态，可以理解成网络的“记忆”，对应图中的h。\n",
    "\n",
    "Theano实现：\n",
    "\n",
    "```python\n",
    "# 获得embedding\n",
    "x_e = E[:, x_t]\n",
    "\n",
    "# GRU \n",
    "z_t = T.nnet.hard_sigmoid(U[0].dot(x_e) + W[0].dot(s_t_prev) + b[0])\n",
    "r_t = T.nnet.hard_sigmoid(U[1].dot(x_e) + W[1].dot(s_t_prev) + b[1])\n",
    "h_t = T.tanh(U[2].dot(x_e) + W[2].dot(s_t_prev * r_t) + b[2])\n",
    "s_t = (T.ones_like(z_t) - z_t) * h_t + z_t * s_t_prev\n",
    "```"
   ]
  },
  {
   "cell_type": "markdown",
   "metadata": {},
   "source": [
    "## 3. LSTM（长短项记忆）\n",
    "\n",
    "继续介绍LSTM：\n",
    "\n",
    "![](https://raw.githubusercontent.com/applenob/nlp_projects/master/resources/lstm.png)\n",
    "\n",
    "解释：\n",
    "\n",
    "- $i = \\sigma (x_tU^i + s_{t-1}W^i)$ ，i是input gate（输入门），定义多少候选记忆可以通过；\n",
    "- $f = \\sigma (x_tU^f + s_{t-1}W^i)$ ，f是forget gate（遗忘门），定义多少之前的记忆可以通过；\n",
    "- $o = \\sigma (x_tU^o + s_{t-1}W^o)$ ，o是output gate（输出门），定义多少内部记忆要暴露给外部网络；\n",
    "- $g = tanh(x_tU^g + s_{t-1}W^g)$ ， g是候选记忆；\n",
    "- $c_t = c_{t-1}\\circ f + g \\circ i$ ，$c_t$是内部记忆；\n",
    "- $s_t = tanh(c_t) \\circ o$ ，$s_t$是外部记忆，暴露给网络。\n",
    "\n",
    "Tensorflow实现：\n",
    "\n",
    "参数定义：\n",
    "\n",
    "```python  \n",
    "# Parameters:\n",
    "  # Input gate: input, previous output, and bias.\n",
    "  iU = tf.Variable(tf.truncated_normal([vocabulary_size, num_nodes], -0.1, 0.1))\n",
    "  iW = tf.Variable(tf.truncated_normal([num_nodes, num_nodes], -0.1, 0.1))\n",
    "  ib = tf.Variable(tf.zeros([1, num_nodes]))\n",
    "  # Forget gate: input, previous output, and bias.\n",
    "  fU = tf.Variable(tf.truncated_normal([vocabulary_size, num_nodes], -0.1, 0.1))\n",
    "  fW = tf.Variable(tf.truncated_normal([num_nodes, num_nodes], -0.1, 0.1))\n",
    "  fb = tf.Variable(tf.zeros([1, num_nodes]))\n",
    "  # Memory cell: input, state and bias.                             \n",
    "  cU = tf.Variable(tf.truncated_normal([vocabulary_size, num_nodes], -0.1, 0.1))\n",
    "  cW = tf.Variable(tf.truncated_normal([num_nodes, num_nodes], -0.1, 0.1))\n",
    "  cb = tf.Variable(tf.zeros([1, num_nodes]))\n",
    "  # Output gate: input, previous output, and bias.\n",
    "  oU = tf.Variable(tf.truncated_normal([vocabulary_size, num_nodes], -0.1, 0.1))\n",
    "  oW = tf.Variable(tf.truncated_normal([num_nodes, num_nodes], -0.1, 0.1))\n",
    "  ob = tf.Variable(tf.zeros([1, num_nodes]))\n",
    "  # Variables saving state across unrollings.\n",
    "  saved_output = tf.Variable(tf.zeros([batch_size, num_nodes]), trainable=False)\n",
    "  saved_state = tf.Variable(tf.zeros([batch_size, num_nodes]), trainable=False)\n",
    "  # Classifier weights and biases.\n",
    "  w = tf.Variable(tf.truncated_normal([num_nodes, vocabulary_size], -0.1, 0.1))\n",
    "  b = tf.Variable(tf.zeros([vocabulary_size]))\n",
    "```\n",
    "\n",
    "计算规则：\n",
    "\n",
    "```python\n",
    "def lstm_cell(i, o, state):\n",
    "    \"\"\"Create a LSTM cell. See e.g.: http://arxiv.org/pdf/1402.1128v1.pdf\n",
    "    Note that in this formulation, we omit the various connections between the\n",
    "    previous state and the gates.\"\"\"\n",
    "    input_gate = tf.sigmoid(tf.matmul(i, iU) + tf.matmul(o, iW) + ib)\n",
    "    forget_gate = tf.sigmoid(tf.matmul(i, fU) + tf.matmul(o, fW) + fb)\n",
    "    update = tf.matmul(i, cU) + tf.matmul(o, cW) + cb\n",
    "    state = forget_gate * state + input_gate * tf.tanh(update)\n",
    "    output_gate = tf.sigmoid(tf.matmul(i, oU) + tf.matmul(o, oW) + ob)\n",
    "    return output_gate * tf.tanh(state), state\n",
    "```"
   ]
  },
  {
   "cell_type": "markdown",
   "metadata": {},
   "source": [
    "## 4. 一些细节\n",
    "\n",
    "符号$\\circ$代表矩阵的Element-wise product，也称为Hadamard product。\n",
    "\n",
    "在theano和tensorflow中，*直接表示Element-wise product。\n",
    "\n",
    "而theano中的.dot和tensorflow中的tf.matmul，表示矩阵乘法。"
   ]
  },
  {
   "cell_type": "code",
   "execution_count": 1,
   "metadata": {
    "collapsed": false
   },
   "outputs": [
    {
     "name": "stdout",
     "output_type": "stream",
     "text": [
      "end of part 2 \n"
     ]
    }
   ],
   "source": [
    "print \"end of part 2 \""
   ]
  }
 ],
 "metadata": {
  "anaconda-cloud": {},
  "kernelspec": {
   "display_name": "Python [default]",
   "language": "python",
   "name": "python2"
  },
  "language_info": {
   "codemirror_mode": {
    "name": "ipython",
    "version": 2
   },
   "file_extension": ".py",
   "mimetype": "text/x-python",
   "name": "python",
   "nbconvert_exporter": "python",
   "pygments_lexer": "ipython2",
   "version": "2.7.12"
  }
 },
 "nbformat": 4,
 "nbformat_minor": 0
}
